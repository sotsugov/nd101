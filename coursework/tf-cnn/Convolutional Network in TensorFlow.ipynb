{
 "cells": [
  {
   "cell_type": "markdown",
   "metadata": {},
   "source": [
    "### Using Convolution Layers in TensorFlow\n",
    "\n",
    "Let's now apply what we've learned to build real CNNs in TensorFlow. In the below exercise, you'll be asked to set up the dimensions of the Convolution filters, the weights, the biases. This is in many ways the trickiest part to using CNNs in TensorFlow. Once you have a sense of how to set up the dimensions of these attributes, applying CNNs will be far more straight forward.\n",
    "\n",
    "#### Review\n",
    "You should go over the TensorFlow documentation for 2D convolutions. Most of the documentation is straightforward, except perhaps the `padding` argument. The padding might differ depending on whether you pass `'VALID'` or `'SAME'`."
   ]
  },
  {
   "cell_type": "code",
   "execution_count": 22,
   "metadata": {
    "collapsed": false
   },
   "outputs": [],
   "source": [
    "import tensorflow as tf\n",
    "import numpy as np"
   ]
  },
  {
   "cell_type": "code",
   "execution_count": 23,
   "metadata": {
    "collapsed": false
   },
   "outputs": [],
   "source": [
    "\"\"\"\n",
    "Setup the strides, padding and filter weight/bias, \n",
    "such that the ouptput shape is (1, 2, 2, 3)\n",
    "\"\"\"\n",
    "\n",
    "# `tf.nn.conv2d` requires the input to be 4d (batch_size, height, width, depth)\n",
    "# (1, 4, 4, 1)\n",
    "x = np.array([\n",
    "        [0, 1, 0.5, 10],\n",
    "        [2, 2.5, 1, -8],\n",
    "        [4, 0, 5, 6],\n",
    "        [15, 1, 2, 3]\n",
    "    ], dtype=np.float32).reshape((1, 4, 4, 1))\n",
    "X = tf.constant(x)\n",
    "\n",
    "def conv2d(input):\n",
    "    # Filter (weights and bias)\n",
    "    # TODO: Define the filter weights `F_W` and filter bias `F_b`\n",
    "    # NOTE: Remember to wrap them in `tf.Variable`, they are trainable parameters after all.\n",
    "    \n",
    "    # The shape of the filter weight is (hight, width, input_depth, output_depth)\n",
    "    # out_height = ceil(float(in_height - filter_height + 1) / float(strides[1])) =\n",
    "    # ceil(float(4 - 2 + 1) / float(2)) = ceil(1.5) = 2\n",
    "    # out_width  = ceil(float(in_width - filter_width + 1) / float(strides[2])) = \n",
    "    # ceil(float(4 - 2 + 1) / float(2)) = ceil(1.5) = 2\n",
    "    # input_depth = 1\n",
    "    # ouput_depth = F_b (3)\n",
    "    F_W = tf.Variable(tf.truncated_normal((2, 2, 1, 3)))\n",
    "    # The shape of the filter bias is (output_depth,)\n",
    "    F_b = tf.Variable(tf.zeros(3)) # depth 3\n",
    "\n",
    "    # TODO: Set the stride for each dimention (batch_size, hieght, width, depth)\n",
    "    strides = [1, 2, 2, 1]\n",
    "    \n",
    "    # TODO: Set the padding, either 'VALID' or 'SAME'\n",
    "    padding = 'VALID'\n",
    "    \n",
    "    # https://www.tensorflow.org/api_guides/python/nn#Convolution\n",
    "    # `tf.nn.conv2d` does not include the bias computation so we have to add it ourselves after.\n",
    "    return tf.nn.conv2d(input, F_W, strides, padding) + F_b"
   ]
  },
  {
   "cell_type": "code",
   "execution_count": 17,
   "metadata": {
    "collapsed": true
   },
   "outputs": [],
   "source": [
    "out = conv2d(X)"
   ]
  },
  {
   "cell_type": "markdown",
   "metadata": {},
   "source": [
    "```\n",
    "Output shape: [1, 2, 2, 3] \n",
    "Convolution result: [[[[ 1.69080663 1.13641047 -0.57563281] [ 5.44978762 7.16402149 -2.70657635]] [[ 16.97671509 3.64228129 7.42071056] [ 2.89348435 10.28595734 -8.23933697]]]]\n",
    "```"
   ]
  },
  {
   "cell_type": "markdown",
   "metadata": {},
   "source": [
    "### Using Pooling Layers in TensorFlow\n",
    "\n",
    "In the below exercise, you'll be asked to set up the dimensions of the pooling filters, strides, as well as the appropriate padding. You should go over the TensorFlow documentation for tf.nn.max_pool(). Padding works the same as it does for a convolution.\n",
    "Instructions\n",
    "\n",
    "* Finish off each TODO in the maxpool function.\n",
    "* Setup the strides, padding and ksize such that the output shape after pooling is (1, 2, 2, 1).\n",
    "\n"
   ]
  },
  {
   "cell_type": "code",
   "execution_count": 28,
   "metadata": {
    "collapsed": false
   },
   "outputs": [],
   "source": [
    "\"\"\"\n",
    "Set the values to `strides` and `ksize`, \n",
    "such that the ouptput shape after pooling is (1, 2, 2, 1)\n",
    "\"\"\"\n",
    "# `tf.nn.max_pool` requires the input to be 4d (batch_size, height, width, depth)\n",
    "# (1, 4, 4, 1)\n",
    "x = np.array([\n",
    "        [0, 1, 0.5, 10],\n",
    "        [2, 2.5, 1, -8],\n",
    "        [4, 0, 5, 6],\n",
    "        [15, 1, 2, 3]\n",
    "    ], dtype=np.float32).reshape((1, 4, 4, 1))\n",
    "X = tf.constant(x)\n",
    "\n",
    "def maxpool(input):\n",
    "    # TODO: Set the ksize (filter size) for each dimention (batch_size, height, width, depth)\n",
    "    # out_height = ceil(float(in_height - filter_height + 1) / float(strides[1]))\n",
    "    # out_width  = ceil(float(in_width - filter_width + 1) / float(strides[2]))\n",
    "    # out_height = ceil(float(4 - 2 + 1) / float(2)) = ceil(1.5) = 2\n",
    "    # out_width  = ceil(float(4 - 2 + 1) / float(2)) = ceil(1.5) = 2\n",
    "    # The depth doesn't change during a pooling operation so I don't have to worry about that.\n",
    "    ksize = [1, 2, 2, 1]\n",
    "    \n",
    "    # TODO: Set the stride for each dimention (batch_size, hieght, width, depth)\n",
    "    strides = [1, 2, 2, 1]\n",
    "    \n",
    "    # TODO: Set the padding, either 'VALID' or 'SAME'\n",
    "    padding = 'VALID'\n",
    "    \n",
    "    # https://www.tensorflow.org/api_docs/python/tf/nn/max_pool\n",
    "    return tf.nn.max_pool(input, ksize, strides, padding)"
   ]
  },
  {
   "cell_type": "code",
   "execution_count": 29,
   "metadata": {
    "collapsed": false
   },
   "outputs": [],
   "source": [
    "out = maxpool(X)"
   ]
  },
  {
   "cell_type": "markdown",
   "metadata": {},
   "source": [
    "```\n",
    "Output shape: [1, 2, 2, 1] \n",
    "Pooling result: [[[[ 2.5] [ 10. ]] [[ 15. ] [ 6. ]]]]\n",
    "```"
   ]
  }
 ],
 "metadata": {
  "kernelspec": {
   "display_name": "Python 3",
   "language": "python",
   "name": "python3"
  },
  "language_info": {
   "codemirror_mode": {
    "name": "ipython",
    "version": 3
   },
   "file_extension": ".py",
   "mimetype": "text/x-python",
   "name": "python",
   "nbconvert_exporter": "python",
   "pygments_lexer": "ipython3",
   "version": "3.5.3"
  }
 },
 "nbformat": 4,
 "nbformat_minor": 1
}
