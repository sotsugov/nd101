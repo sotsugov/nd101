{
 "cells": [
  {
   "cell_type": "markdown",
   "metadata": {
    "deletable": true,
    "editable": true
   },
   "source": [
    "# TV Script Generation\n",
    "In this project, you'll generate your own [Simpsons](https://en.wikipedia.org/wiki/The_Simpsons) TV scripts using RNNs.  You'll be using part of the [Simpsons dataset](https://www.kaggle.com/wcukierski/the-simpsons-by-the-data) of scripts from 27 seasons.  The Neural Network you'll build will generate a new TV script for a scene at [Moe's Tavern](https://simpsonswiki.com/wiki/Moe's_Tavern).\n",
    "## Get the Data\n",
    "The data is already provided for you.  You'll be using a subset of the original dataset.  It consists of only the scenes in Moe's Tavern.  This doesn't include other versions of the tavern, like \"Moe's Cavern\", \"Flaming Moe's\", \"Uncle Moe's Family Feed-Bag\", etc.."
   ]
  },
  {
   "cell_type": "code",
   "execution_count": 161,
   "metadata": {
    "collapsed": false,
    "deletable": true,
    "editable": true
   },
   "outputs": [],
   "source": [
    "import csv\n",
    "\n",
    "li = []\n",
    "with open('./data/simpsons/simpsons_script_lines.csv', 'r') as csvfile:\n",
    "    spamreader = csv.reader(csvfile, delimiter=',', quotechar='\"')\n",
    "    tav = False\n",
    "    ep = 0\n",
    "    blank = False\n",
    "    for row in spamreader:\n",
    "        if ( ep != row[1] ):\n",
    "            li.append(\"\")\n",
    "        if (row[3].startswith(\"(\")):\n",
    "             pass\n",
    "        elif ( ep == row[1] ):\n",
    "            colon = row[3].index(':')\n",
    "            name = row[3][0:colon].replace(\" \", \"_\")\n",
    "            line = row[3][colon:]\n",
    "            li.append(\"\".join([name, line]))\n",
    "        ep = row[1]"
   ]
  },
  {
   "cell_type": "code",
   "execution_count": 162,
   "metadata": {
    "collapsed": false
   },
   "outputs": [
    {
     "name": "stdout",
     "output_type": "stream",
     "text": [
      "141519\n"
     ]
    }
   ],
   "source": [
    "# check the size of the dataset\n",
    "print(len(li))"
   ]
  },
  {
   "cell_type": "code",
   "execution_count": 163,
   "metadata": {
    "collapsed": false
   },
   "outputs": [
    {
     "name": "stdout",
     "output_type": "stream",
     "text": [
      "\n",
      "\n",
      "Lisa_Simpson: (NEAR TEARS) Where's Mr. Bergstrom?\n",
      "Miss_Hoover: I don't know. Although I'd sure like to talk to him. He didn't touch my lesson plan. What did he teach you?\n",
      "Lisa_Simpson: That life is worth living.\n",
      "Edna_Krabappel-Flanders: The polls will be open from now until the end of recess. Now, (SOUR) just in case any of you have decided to put any thought into this, we'll have our final statements. Martin?\n",
      "Martin_Prince: (HOARSE WHISPER) I don't think there's anything left to say.\n",
      "Edna_Krabappel-Flanders: Bart?\n",
      "Bart_Simpson: Victory party under the slide!\n",
      "Lisa_Simpson: (CALLING) Mr. Bergstrom! Mr. Bergstrom!\n",
      "Landlady: Hey, hey, he Moved out this morning. He must have a new job -- he took his Copernicus costume.\n",
      "Lisa_Simpson: Do you know where I could find him?\n",
      "Landlady: I think he's taking the next train to Capital City.\n",
      "Lisa_Simpson: The train, how like him... traditional, yet environmentally sound.\n",
      "Landlady: Yes, and it's been the backbone of our country since Leland Stanford drove that golden spike at Promontory point.\n",
      "Lisa_Simpson: I see he touched you, too.\n",
      "Bart_Simpson: Hey, thanks for your vote, man.\n",
      "Nelson_Muntz: I didn't vote. Voting's for geeks.\n",
      "Bart_Simpson: Well, you got that right. (TO TERRI AND SHERRI) Thanks for your vote, girls.\n",
      "Terri/sherri: We forgot.\n",
      "Bart_Simpson: Well, don't sweat it. Just so long as a couple of people did... right, Milhouse?\n",
      "Milhouse_Van_Houten: Uh oh.\n",
      "Bart_Simpson: Lewis?\n",
      "Bart_Simpson: (LOUDER) Somebody must have voted.\n",
      "Milhouse_Van_Houten: What about you, Bart? Didn't you vote?\n",
      "Bart_Simpson: Uh oh.\n",
      "Bart_Simpson: (ANGUISHED SCREAM)\n",
      "Wendell_Borton: Yayyyyyyyyyyyyyy!\n",
      "\n",
      "\n",
      "Edna_Krabappel-Flanders: One for Martin, two for Martin. Would you like another recount?\n",
      "Bart_Simpson: (SADLY) No.\n",
      "Edna_Krabappel-Flanders: (RELISHING IT) Well, I just want to make sure. One for Martin. Two for Martin.\n",
      "Kid_Reporter: (TO MARTIN) This way, Mister President!\n",
      "Conductor: Now boarding on track 5, The afternoon delight coming to Shelbyville, Parkville, and…..\n",
      "Lisa_Simpson: Mr. Bergstrom! Hey, Mr. Bergstrom!\n",
      "BERGSTROM: Hey, Lisa.\n",
      "Lisa_Simpson: Hey, Lisa, indeed.\n",
      "BERGSTROM: What? What is it?\n",
      "Lisa_Simpson: Oh, I mean, were you just going to leave, just like that?\n",
      "BERGSTROM: Ah, I'm sorry, Lisa. You know, it's the life of the substitute teacher: he's a fraud. Today he might be wearing gym shorts, tomorrow he's speaking French, or, or, or pretending to know how to run a band saw, or God knows what.\n",
      "Lisa_Simpson: You can't go! You're the best teacher I'll ever have.\n",
      "BERGSTROM: Ah, that's not true. Other teachers will come along who...\n",
      "Lisa_Simpson: Oh, please.\n",
      "BERGSTROM: No, I can't lie to you, I am the best. But, you know, they need me over in the projects of Capital City.\n",
      "Lisa_Simpson: But I need you too.\n",
      "BERGSTROM: That's the problem with being middle class. Anybody who really cares will abandon you for those who need it more.\n",
      "Lisa_Simpson: (SNIFFLING) I, I understand. Mr. Bergstrom, I'm going to miss you.\n",
      "BERGSTROM: I'll tell you what...\n",
      "BERGSTROM: Whenever you feel like you're alone and there's nobody you can rely on, this is all you need to know.\n"
     ]
    }
   ],
   "source": [
    "# format the dataset to the same format as the original text\n",
    "print(\"\\n\".join(li[:50]))"
   ]
  },
  {
   "cell_type": "code",
   "execution_count": 164,
   "metadata": {
    "collapsed": true
   },
   "outputs": [],
   "source": [
    "text = \"\\n\".join(li)"
   ]
  },
  {
   "cell_type": "code",
   "execution_count": 165,
   "metadata": {
    "collapsed": false
   },
   "outputs": [
    {
     "name": "stdout",
     "output_type": "stream",
     "text": [
      "\n",
      "\n",
      "Lisa_Simpson: (NEAR TEARS) Where's Mr. Bergstrom?\n",
      "Miss_Hoover: I don't know. Although I'd sure like to talk to him. He didn't touch my lesson plan. What did he teach you?\n",
      "Lisa_Simpson: That life is worth living.\n",
      "Edna_Krabappel-Flanders: The polls will be open from now until the end of recess. Now, (SOUR) just in case any of you have decided to put any thought into this, we'll have our final statements. Martin?\n",
      "Martin_Prince: (HOARSE WHISPER) I don't think there's anything left to say.\n",
      "Edna_Kra\n"
     ]
    }
   ],
   "source": [
    "print(text[:500])"
   ]
  },
  {
   "cell_type": "markdown",
   "metadata": {
    "deletable": true,
    "editable": true
   },
   "source": [
    "## Explore the Data\n",
    "Play around with `view_sentence_range` to view different parts of the data."
   ]
  },
  {
   "cell_type": "code",
   "execution_count": 195,
   "metadata": {
    "collapsed": false,
    "deletable": true,
    "editable": true
   },
   "outputs": [
    {
     "name": "stdout",
     "output_type": "stream",
     "text": [
      "Dataset Stats\n",
      "Roughly the number of unique words: 130103\n",
      "Number of scenes: 1735\n",
      "Average number of sentences in each scene: 79.56772334293949\n",
      "Number of lines: 139785\n",
      "Average number of words in each line: 10.97631362449476\n",
      "\n",
      "The sentences 5 to 30:\n",
      "Edna_Krabappel-Flanders: The polls will be open from now until the end of recess. Now, (SOUR) just in case any of you have decided to put any thought into this, we'll have our final statements. Martin?\n",
      "Martin_Prince: (HOARSE WHISPER) I don't think there's anything left to say.\n",
      "Edna_Krabappel-Flanders: Bart?\n",
      "Bart_Simpson: Victory party under the slide!\n",
      "Lisa_Simpson: (CALLING) Mr. Bergstrom! Mr. Bergstrom!\n",
      "Landlady: Hey, hey, he Moved out this morning. He must have a new job -- he took his Copernicus costume.\n",
      "Lisa_Simpson: Do you know where I could find him?\n",
      "Landlady: I think he's taking the next train to Capital City.\n",
      "Lisa_Simpson: The train, how like him... traditional, yet environmentally sound.\n",
      "Landlady: Yes, and it's been the backbone of our country since Leland Stanford drove that golden spike at Promontory point.\n",
      "Lisa_Simpson: I see he touched you, too.\n",
      "Bart_Simpson: Hey, thanks for your vote, man.\n",
      "Nelson_Muntz: I didn't vote. Voting's for geeks.\n",
      "Bart_Simpson: Well, you got that right. (TO TERRI AND SHERRI) Thanks for your vote, girls.\n",
      "Terri/sherri: We forgot.\n",
      "Bart_Simpson: Well, don't sweat it. Just so long as a couple of people did... right, Milhouse?\n",
      "Milhouse_Van_Houten: Uh oh.\n",
      "Bart_Simpson: Lewis?\n",
      "Bart_Simpson: (LOUDER) Somebody must have voted.\n",
      "Milhouse_Van_Houten: What about you, Bart? Didn't you vote?\n",
      "Bart_Simpson: Uh oh.\n",
      "Bart_Simpson: (ANGUISHED SCREAM)\n",
      "Wendell_Borton: Yayyyyyyyyyyyyyy!\n",
      "\n",
      "\n"
     ]
    }
   ],
   "source": [
    "view_sentence_range = (5, 30)\n",
    "\n",
    "\"\"\"\n",
    "DON'T MODIFY ANYTHING IN THIS CELL\n",
    "\"\"\"\n",
    "import numpy as np\n",
    "\n",
    "print('Dataset Stats')\n",
    "print('Roughly the number of unique words: {}'.format(len({word: None for word in text.split()})))\n",
    "scenes = text.split('\\n\\n')\n",
    "print('Number of scenes: {}'.format(len(scenes)))\n",
    "sentence_count_scene = [scene.count('\\n') for scene in scenes]\n",
    "print('Average number of sentences in each scene: {}'.format(np.average(sentence_count_scene)))\n",
    "\n",
    "sentences = [sentence for scene in scenes for sentence in scene.split('\\n')]\n",
    "print('Number of lines: {}'.format(len(sentences)))\n",
    "word_count_sentence = [len(sentence.split()) for sentence in sentences]\n",
    "print('Average number of words in each line: {}'.format(np.average(word_count_sentence)))\n",
    "\n",
    "print()\n",
    "print('The sentences {} to {}:'.format(*view_sentence_range))\n",
    "print('\\n'.join(text.split('\\n')[view_sentence_range[0]:view_sentence_range[1]]))"
   ]
  },
  {
   "cell_type": "markdown",
   "metadata": {
    "deletable": true,
    "editable": true
   },
   "source": [
    "## Implement Preprocessing Functions\n",
    "The first thing to do to any dataset is preprocessing.  Implement the following preprocessing functions below:\n",
    "- Lookup Table\n",
    "- Tokenize Punctuation\n",
    "\n",
    "### Lookup Table\n",
    "To create a word embedding, you first need to transform the words to ids.  In this function, create two dictionaries:\n",
    "- Dictionary to go from the words to an id, we'll call `vocab_to_int`\n",
    "- Dictionary to go from the id to word, we'll call `int_to_vocab`\n",
    "\n",
    "Return these dictionaries in the following tuple `(vocab_to_int, int_to_vocab)`"
   ]
  },
  {
   "cell_type": "code",
   "execution_count": 167,
   "metadata": {
    "collapsed": false,
    "deletable": true,
    "editable": true
   },
   "outputs": [
    {
     "name": "stdout",
     "output_type": "stream",
     "text": [
      "Tests Passed\n"
     ]
    }
   ],
   "source": [
    "import numpy as np\n",
    "import problem_unittests as tests\n",
    "\n",
    "def create_lookup_tables(text):\n",
    "    \"\"\"\n",
    "    Create lookup tables for vocabulary\n",
    "    :param text: The text of tv scripts split into words\n",
    "    :return: A tuple of dicts (vocab_to_int, int_to_vocab)\n",
    "    \"\"\"\n",
    "    vocab = set(text)\n",
    "    vocab_to_int = {word: n for n, word in enumerate(vocab)}\n",
    "    int_to_vocab = dict(enumerate(vocab))\n",
    "    return (vocab_to_int, int_to_vocab)\n",
    "\n",
    "\"\"\"\n",
    "DON'T MODIFY ANYTHING IN THIS CELL THAT IS BELOW THIS LINE\n",
    "\"\"\"\n",
    "tests.test_create_lookup_tables(create_lookup_tables)"
   ]
  },
  {
   "cell_type": "markdown",
   "metadata": {
    "deletable": true,
    "editable": true
   },
   "source": [
    "### Tokenize Punctuation\n",
    "We'll be splitting the script into a word array using spaces as delimiters.  However, punctuations like periods and exclamation marks make it hard for the neural network to distinguish between the word \"bye\" and \"bye!\".\n",
    "\n",
    "Implement the function `token_lookup` to return a dict that will be used to tokenize symbols like \"!\" into \"||Exclamation_Mark||\".  Create a dictionary for the following symbols where the symbol is the key and value is the token:\n",
    "- Period ( . )\n",
    "- Comma ( , )\n",
    "- Quotation Mark ( \" )\n",
    "- Semicolon ( ; )\n",
    "- Exclamation mark ( ! )\n",
    "- Question mark ( ? )\n",
    "- Left Parentheses ( ( )\n",
    "- Right Parentheses ( ) )\n",
    "- Dash ( -- )\n",
    "- Return ( \\n )\n",
    "\n",
    "This dictionary will be used to token the symbols and add the delimiter (space) around it.  This separates the symbols as it's own word, making it easier for the neural network to predict on the next word. Make sure you don't use a token that could be confused as a word. Instead of using the token \"dash\", try using something like \"||dash||\"."
   ]
  },
  {
   "cell_type": "code",
   "execution_count": 168,
   "metadata": {
    "collapsed": false,
    "deletable": true,
    "editable": true
   },
   "outputs": [
    {
     "name": "stdout",
     "output_type": "stream",
     "text": [
      "Tests Passed\n"
     ]
    }
   ],
   "source": [
    "def token_lookup():\n",
    "    \"\"\"\n",
    "    Generate a dict to turn punctuation into a token.\n",
    "    :return: Tokenize dictionary where the key is the punctuation and the value is the token\n",
    "    \"\"\"\n",
    "    return {\n",
    "        '.': \"||Period||\",\n",
    "        ',': \"||Comma||\",\n",
    "        '…': \"||Tripple_Dot||\"\n",
    "        '\"': \"||Quotation_Mark||\",\n",
    "        ';': \"||Semicolon||\",\n",
    "        '!': \"||Exclamation_Mark||\",\n",
    "        '?': \"||Question_Mark||\",\n",
    "        '(': \"||Left_Parentheses||\",\n",
    "        ')': \"||Right_Parentheses||\",\n",
    "        '--': \"||Dash||\",\n",
    "        '\\n': \"||Return||\",\n",
    "    }\n",
    "\n",
    "\"\"\"\n",
    "DON'T MODIFY ANYTHING IN THIS CELL THAT IS BELOW THIS LINE\n",
    "\"\"\"\n",
    "tests.test_tokenize(token_lookup)"
   ]
  },
  {
   "cell_type": "markdown",
   "metadata": {
    "deletable": true,
    "editable": true
   },
   "source": [
    "## Preprocess all the data and save it\n",
    "Running the code cell below will preprocess all the data and save it to file."
   ]
  },
  {
   "cell_type": "code",
   "execution_count": 169,
   "metadata": {
    "collapsed": false,
    "deletable": true,
    "editable": true
   },
   "outputs": [],
   "source": [
    "\"\"\"\n",
    "DON'T MODIFY ANYTHING IN THIS CELL\n",
    "\"\"\"\n",
    "# Preprocess Training, Validation, and Testing Data\n",
    "helper.preprocess_and_save_data(data_dir, token_lookup, create_lookup_tables)"
   ]
  },
  {
   "cell_type": "markdown",
   "metadata": {
    "deletable": true,
    "editable": true
   },
   "source": [
    "# Check Point\n",
    "This is your first checkpoint. If you ever decide to come back to this notebook or have to restart the notebook, you can start from here. The preprocessed data has been saved to disk."
   ]
  },
  {
   "cell_type": "code",
   "execution_count": 170,
   "metadata": {
    "collapsed": false,
    "deletable": true,
    "editable": true
   },
   "outputs": [],
   "source": [
    "\"\"\"\n",
    "DON'T MODIFY ANYTHING IN THIS CELL\n",
    "\"\"\"\n",
    "import helper\n",
    "import numpy as np\n",
    "import problem_unittests as tests\n",
    "\n",
    "int_text, vocab_to_int, int_to_vocab, token_dict = helper.load_preprocess()"
   ]
  },
  {
   "cell_type": "markdown",
   "metadata": {
    "deletable": true,
    "editable": true
   },
   "source": [
    "## Build the Neural Network\n",
    "You'll build the components necessary to build a RNN by implementing the following functions below:\n",
    "- get_inputs\n",
    "- get_init_cell\n",
    "- get_embed\n",
    "- build_rnn\n",
    "- build_nn\n",
    "- get_batches\n",
    "\n",
    "### Check the Version of TensorFlow and Access to GPU"
   ]
  },
  {
   "cell_type": "code",
   "execution_count": 171,
   "metadata": {
    "collapsed": false,
    "deletable": true,
    "editable": true
   },
   "outputs": [
    {
     "name": "stdout",
     "output_type": "stream",
     "text": [
      "TensorFlow Version: 1.0.0\n",
      "Default GPU Device: /gpu:0\n"
     ]
    }
   ],
   "source": [
    "\"\"\"\n",
    "DON'T MODIFY ANYTHING IN THIS CELL\n",
    "\"\"\"\n",
    "from distutils.version import LooseVersion\n",
    "import warnings\n",
    "import tensorflow as tf\n",
    "\n",
    "# Check TensorFlow Version\n",
    "assert LooseVersion(tf.__version__) >= LooseVersion('1.0'), 'Please use TensorFlow version 1.0 or newer'\n",
    "print('TensorFlow Version: {}'.format(tf.__version__))\n",
    "\n",
    "# Check for a GPU\n",
    "if not tf.test.gpu_device_name():\n",
    "    warnings.warn('No GPU found. Please use a GPU to train your neural network.')\n",
    "else:\n",
    "    print('Default GPU Device: {}'.format(tf.test.gpu_device_name()))"
   ]
  },
  {
   "cell_type": "markdown",
   "metadata": {
    "deletable": true,
    "editable": true
   },
   "source": [
    "### Input\n",
    "Implement the `get_inputs()` function to create TF Placeholders for the Neural Network.  It should create the following placeholders:\n",
    "- Input text placeholder named \"input\" using the [TF Placeholder](https://www.tensorflow.org/api_docs/python/tf/placeholder) `name` parameter.\n",
    "- Targets placeholder\n",
    "- Learning Rate placeholder\n",
    "\n",
    "Return the placeholders in the following the tuple `(Input, Targets, LearingRate)`"
   ]
  },
  {
   "cell_type": "code",
   "execution_count": 172,
   "metadata": {
    "collapsed": false,
    "deletable": true,
    "editable": true
   },
   "outputs": [
    {
     "name": "stdout",
     "output_type": "stream",
     "text": [
      "Tests Passed\n"
     ]
    }
   ],
   "source": [
    "def get_inputs():\n",
    "    \"\"\"\n",
    "    Create TF Placeholders for input, targets, and learning rate.\n",
    "    :return: Tuple (input, targets, learning rate)\n",
    "    \"\"\"\n",
    "    input_data = tf.placeholder(tf.int32, [None, None], name=\"input\")\n",
    "    targets = tf.placeholder(tf.int32, [None, None], name=\"targets\")\n",
    "    learning_rate = tf.placeholder(tf.float32, name=\"learning_rate\")\n",
    "    return input_data, targets, learning_rate\n",
    "\n",
    "\"\"\"\n",
    "DON'T MODIFY ANYTHING IN THIS CELL THAT IS BELOW THIS LINE\n",
    "\"\"\"\n",
    "tests.test_get_inputs(get_inputs)"
   ]
  },
  {
   "cell_type": "markdown",
   "metadata": {
    "deletable": true,
    "editable": true
   },
   "source": [
    "### Build RNN Cell and Initialize\n",
    "Stack one or more [`BasicLSTMCells`](https://www.tensorflow.org/api_docs/python/tf/contrib/rnn/BasicLSTMCell) in a [`MultiRNNCell`](https://www.tensorflow.org/api_docs/python/tf/contrib/rnn/MultiRNNCell).\n",
    "- The Rnn size should be set using `rnn_size`\n",
    "- Initalize Cell State using the MultiRNNCell's [`zero_state()`](https://www.tensorflow.org/api_docs/python/tf/contrib/rnn/MultiRNNCell#zero_state) function\n",
    "    - Apply the name \"initial_state\" to the initial state using [`tf.identity()`](https://www.tensorflow.org/api_docs/python/tf/identity)\n",
    "\n",
    "Return the cell and initial state in the following tuple `(Cell, InitialState)`"
   ]
  },
  {
   "cell_type": "code",
   "execution_count": 173,
   "metadata": {
    "collapsed": false,
    "deletable": true,
    "editable": true
   },
   "outputs": [
    {
     "name": "stdout",
     "output_type": "stream",
     "text": [
      "Tests Passed\n"
     ]
    }
   ],
   "source": [
    "n_layers = 2\n",
    "\n",
    "def get_init_cell(batch_size, rnn_size):\n",
    "    \"\"\"\n",
    "    Create an RNN Cell and initialize it.\n",
    "    :param batch_size: Size of batches\n",
    "    :param rnn_size: Size of RNNs\n",
    "    :return: Tuple (cell, initialize state)\n",
    "    \"\"\"\n",
    "    lstm = tf.contrib.rnn.BasicLSTMCell(rnn_size)\n",
    "    cell = tf.contrib.rnn.MultiRNNCell([lstm] * n_layers) \n",
    "    initial_state = cell.zero_state(batch_size, tf.float32)\n",
    "    initial_state = tf.identity(initial_state, name=\"initial_state\")\n",
    "    return cell, initial_state\n",
    "\n",
    "\"\"\"\n",
    "DON'T MODIFY ANYTHING IN THIS CELL THAT IS BELOW THIS LINE\n",
    "\"\"\"\n",
    "tests.test_get_init_cell(get_init_cell)"
   ]
  },
  {
   "cell_type": "markdown",
   "metadata": {
    "deletable": true,
    "editable": true
   },
   "source": [
    "### Word Embedding\n",
    "Apply embedding to `input_data` using TensorFlow.  Return the embedded sequence."
   ]
  },
  {
   "cell_type": "code",
   "execution_count": 174,
   "metadata": {
    "collapsed": false,
    "deletable": true,
    "editable": true
   },
   "outputs": [
    {
     "name": "stdout",
     "output_type": "stream",
     "text": [
      "Tests Passed\n"
     ]
    }
   ],
   "source": [
    "def get_embed(input_data, vocab_size, embed_dim):\n",
    "    \"\"\"\n",
    "    Create embedding for <input_data>.\n",
    "    :param input_data: TF placeholder for text input.\n",
    "    :param vocab_size: Number of words in vocabulary.\n",
    "    :param embed_dim: Number of embedding dimensions\n",
    "    :return: Embedded input.\n",
    "    \"\"\"\n",
    "    embedding = tf.Variable(tf.random_uniform((vocab_size, embed_dim), -1, 1))\n",
    "    embed = tf.nn.embedding_lookup(embedding, input_data)\n",
    "    return embed\n",
    "\n",
    "\"\"\"\n",
    "DON'T MODIFY ANYTHING IN THIS CELL THAT IS BELOW THIS LINE\n",
    "\"\"\"\n",
    "tests.test_get_embed(get_embed)"
   ]
  },
  {
   "cell_type": "markdown",
   "metadata": {
    "deletable": true,
    "editable": true
   },
   "source": [
    "### Build RNN\n",
    "You created a RNN Cell in the `get_init_cell()` function.  Time to use the cell to create a RNN.\n",
    "- Build the RNN using the [`tf.nn.dynamic_rnn()`](https://www.tensorflow.org/api_docs/python/tf/nn/dynamic_rnn)\n",
    " - Apply the name \"final_state\" to the final state using [`tf.identity()`](https://www.tensorflow.org/api_docs/python/tf/identity)\n",
    "\n",
    "Return the outputs and final_state state in the following tuple `(Outputs, FinalState)` "
   ]
  },
  {
   "cell_type": "code",
   "execution_count": 175,
   "metadata": {
    "collapsed": false,
    "deletable": true,
    "editable": true
   },
   "outputs": [
    {
     "name": "stdout",
     "output_type": "stream",
     "text": [
      "Tests Passed\n"
     ]
    }
   ],
   "source": [
    "def build_rnn(cell, inputs):\n",
    "    \"\"\"\n",
    "    Create a RNN using a RNN Cell\n",
    "    :param cell: RNN Cell\n",
    "    :param inputs: Input text data\n",
    "    :return: Tuple (Outputs, Final State)\n",
    "    \"\"\"\n",
    "    nn_out, state = tf.nn.dynamic_rnn(cell, inputs, dtype=tf.float32)\n",
    "    rnn_out = tf.identity(state, name='final_state')\n",
    "    return nn_out, rnn_out\n",
    "\n",
    "\"\"\"\n",
    "DON'T MODIFY ANYTHING IN THIS CELL THAT IS BELOW THIS LINE\n",
    "\"\"\"\n",
    "tests.test_build_rnn(build_rnn)"
   ]
  },
  {
   "cell_type": "markdown",
   "metadata": {
    "deletable": true,
    "editable": true
   },
   "source": [
    "### Build the Neural Network\n",
    "Apply the functions you implemented above to:\n",
    "- Apply embedding to `input_data` using your `get_embed(input_data, vocab_size, embed_dim)` function.\n",
    "- Build RNN using `cell` and your `build_rnn(cell, inputs)` function.\n",
    "- Apply a fully connected layer with a linear activation and `vocab_size` as the number of outputs.\n",
    "\n",
    "Return the logits and final state in the following tuple (Logits, FinalState) "
   ]
  },
  {
   "cell_type": "code",
   "execution_count": 176,
   "metadata": {
    "collapsed": false,
    "deletable": true,
    "editable": true
   },
   "outputs": [
    {
     "name": "stdout",
     "output_type": "stream",
     "text": [
      "Tests Passed\n"
     ]
    }
   ],
   "source": [
    "embed_dim = 100\n",
    "\n",
    "def build_nn(cell, rnn_size, input_data, vocab_size):\n",
    "    \"\"\"\n",
    "    Build part of the neural network\n",
    "    :param cell: RNN cell\n",
    "    :param rnn_size: Size of rnns\n",
    "    :param input_data: Input data\n",
    "    :param vocab_size: Vocabulary size\n",
    "    :return: Tuple (Logits, FinalState)\n",
    "    \"\"\"\n",
    "    rnn_input = get_embed(input_data, vocab_size, embed_dim) # embed dim should probably be parametrised\n",
    "    rnn, rnn_out = build_rnn(cell, rnn_input)\n",
    "    nn_out = tf.contrib.layers.fully_connected(\n",
    "        rnn,\n",
    "        vocab_size,\n",
    "        weights_initializer=tf.truncated_normal_initializer(stddev=0.1),\n",
    "        biases_initializer=tf.zeros_initializer(),\n",
    "        activation_fn=None,\n",
    "    )\n",
    "    return nn_out, rnn_out\n",
    "\n",
    "\"\"\"\n",
    "DON'T MODIFY ANYTHING IN THIS CELL THAT IS BELOW THIS LINE\n",
    "\"\"\"\n",
    "tests.test_build_nn(build_nn)"
   ]
  },
  {
   "cell_type": "markdown",
   "metadata": {
    "deletable": true,
    "editable": true
   },
   "source": [
    "### Batches\n",
    "Implement `get_batches` to create batches of input and targets using `int_text`.  The batches should be a Numpy array with the shape `(number of batches, 2, batch size, sequence length)`. Each batch contains two elements:\n",
    "- The first element is a single batch of **input** with the shape `[batch size, sequence length]`\n",
    "- The second element is a single batch of **targets** with the shape `[batch size, sequence length]`\n",
    "\n",
    "If you can't fill the last batch with enough data, drop the last batch.\n",
    "\n",
    "For exmple, `get_batches([1, 2, 3, 4, 5, 6, 7, 8, 9, 10, 11, 12, 13, 14, 15], 2, 3)` would return a Numpy array of the following:\n",
    "```\n",
    "[\n",
    "  # First Batch\n",
    "  [\n",
    "    # Batch of Input\n",
    "    [[ 1  2  3], [ 7  8  9]],\n",
    "    # Batch of targets\n",
    "    [[ 2  3  4], [ 8  9 10]]\n",
    "  ],\n",
    " \n",
    "  # Second Batch\n",
    "  [\n",
    "    # Batch of Input\n",
    "    [[ 4  5  6], [10 11 12]],\n",
    "    # Batch of targets\n",
    "    [[ 5  6  7], [11 12 13]]\n",
    "  ]\n",
    "]\n",
    "```"
   ]
  },
  {
   "cell_type": "code",
   "execution_count": 177,
   "metadata": {
    "collapsed": false,
    "deletable": true,
    "editable": true
   },
   "outputs": [
    {
     "name": "stdout",
     "output_type": "stream",
     "text": [
      "Tests Passed\n"
     ]
    }
   ],
   "source": [
    "def get_batches(int_text, batch_size, seq_length):\n",
    "    \"\"\"\n",
    "    Return batches of input and target\n",
    "    :param int_text: Text with the words replaced by their ids\n",
    "    :param batch_size: The size of batch\n",
    "    :param seq_length: The length of sequence\n",
    "    :return: Batches as a Numpy array\n",
    "    \"\"\"\n",
    "    n_batches = int(len(int_text) // (batch_size * seq_length))\n",
    "    \n",
    "    x = np.array(int_text[: n_batches * batch_size * seq_length])\n",
    "    y = np.array(int_text[1: n_batches * batch_size * seq_length + 1])\n",
    "\n",
    "    x_batches = np.split(x.reshape(batch_size, -1), n_batches, 1)\n",
    "    y_batches = np.split(y.reshape(batch_size, -1), n_batches, 1)\n",
    "\n",
    "    return np.asarray(list(zip(x_batches, y_batches)))\n",
    "\n",
    "\"\"\"\n",
    "DON'T MODIFY ANYTHING IN THIS CELL THAT IS BELOW THIS LINE\n",
    "\"\"\"\n",
    "tests.test_get_batches(get_batches)"
   ]
  },
  {
   "cell_type": "markdown",
   "metadata": {
    "deletable": true,
    "editable": true
   },
   "source": [
    "## Neural Network Training\n",
    "### Hyperparameters\n",
    "Tune the following parameters:\n",
    "\n",
    "- Set `num_epochs` to the number of epochs.\n",
    "- Set `batch_size` to the batch size.\n",
    "- Set `rnn_size` to the size of the RNNs.\n",
    "- Set `seq_length` to the length of sequence.\n",
    "- Set `learning_rate` to the learning rate.\n",
    "- Set `show_every_n_batches` to the number of batches the neural network should print progress."
   ]
  },
  {
   "cell_type": "code",
   "execution_count": 179,
   "metadata": {
    "collapsed": true,
    "deletable": true,
    "editable": true
   },
   "outputs": [],
   "source": [
    "num_epochs = 64 # Number of Epochs\n",
    "batch_size = 64 # Batch Size\n",
    "rnn_size = 1024 # RNN Size\n",
    "seq_length = 64 # Sequence Length\n",
    "learning_rate = 0.001 # Learning Rate\n",
    "\n",
    "# Show stats for every n number of batches\n",
    "show_every_n_batches = 10\n",
    "\n",
    "\"\"\"\n",
    "DON'T MODIFY ANYTHING IN THIS CELL THAT IS BELOW THIS LINE\n",
    "\"\"\"\n",
    "save_dir = './save'"
   ]
  },
  {
   "cell_type": "markdown",
   "metadata": {
    "deletable": true,
    "editable": true
   },
   "source": [
    "### Build the Graph\n",
    "Build the graph using the neural network you implemented."
   ]
  },
  {
   "cell_type": "code",
   "execution_count": 180,
   "metadata": {
    "collapsed": false,
    "deletable": true,
    "editable": true
   },
   "outputs": [],
   "source": [
    "\"\"\"\n",
    "DON'T MODIFY ANYTHING IN THIS CELL\n",
    "\"\"\"\n",
    "from tensorflow.contrib import seq2seq\n",
    "\n",
    "train_graph = tf.Graph()\n",
    "with train_graph.as_default():\n",
    "    vocab_size = len(int_to_vocab)\n",
    "    input_text, targets, lr = get_inputs()\n",
    "    input_data_shape = tf.shape(input_text)\n",
    "    cell, initial_state = get_init_cell(input_data_shape[0], rnn_size)\n",
    "    logits, final_state = build_nn(cell, rnn_size, input_text, vocab_size)\n",
    "\n",
    "    # Probabilities for generating words\n",
    "    probs = tf.nn.softmax(logits, name='probs')\n",
    "\n",
    "    # Loss function\n",
    "    cost = seq2seq.sequence_loss(\n",
    "        logits,\n",
    "        targets,\n",
    "        tf.ones([input_data_shape[0], input_data_shape[1]]))\n",
    "\n",
    "    # Optimizer\n",
    "    optimizer = tf.train.AdamOptimizer(lr)\n",
    "\n",
    "    # Gradient Clipping\n",
    "    gradients = optimizer.compute_gradients(cost)\n",
    "    capped_gradients = [(tf.clip_by_value(grad, -1., 1.), var) for grad, var in gradients]\n",
    "    train_op = optimizer.apply_gradients(capped_gradients)"
   ]
  },
  {
   "cell_type": "markdown",
   "metadata": {
    "deletable": true,
    "editable": true
   },
   "source": [
    "## Train\n",
    "Train the neural network on the preprocessed data.  If you have a hard time getting a good loss, check the [forms](https://discussions.udacity.com/) to see if anyone is having the same problem."
   ]
  },
  {
   "cell_type": "code",
   "execution_count": 181,
   "metadata": {
    "collapsed": false,
    "deletable": true,
    "editable": true
   },
   "outputs": [
    {
     "name": "stdout",
     "output_type": "stream",
     "text": [
      "Epoch   0 Batch    0/16   train_loss = 8.828\n",
      "Epoch   0 Batch   10/16   train_loss = 7.067\n",
      "Epoch   1 Batch    4/16   train_loss = 6.174\n",
      "Epoch   1 Batch   14/16   train_loss = 6.066\n",
      "Epoch   2 Batch    8/16   train_loss = 5.918\n",
      "Epoch   3 Batch    2/16   train_loss = 5.834\n",
      "Epoch   3 Batch   12/16   train_loss = 5.836\n",
      "Epoch   4 Batch    6/16   train_loss = 5.630\n",
      "Epoch   5 Batch    0/16   train_loss = 5.412\n",
      "Epoch   5 Batch   10/16   train_loss = 5.529\n",
      "Epoch   6 Batch    4/16   train_loss = 5.339\n",
      "Epoch   6 Batch   14/16   train_loss = 5.262\n",
      "Epoch   7 Batch    8/16   train_loss = 5.191\n",
      "Epoch   8 Batch    2/16   train_loss = 5.145\n",
      "Epoch   8 Batch   12/16   train_loss = 5.155\n",
      "Epoch   9 Batch    6/16   train_loss = 4.985\n",
      "Epoch  10 Batch    0/16   train_loss = 4.788\n",
      "Epoch  10 Batch   10/16   train_loss = 4.917\n",
      "Epoch  11 Batch    4/16   train_loss = 4.751\n",
      "Epoch  11 Batch   14/16   train_loss = 4.665\n",
      "Epoch  12 Batch    8/16   train_loss = 4.588\n",
      "Epoch  13 Batch    2/16   train_loss = 4.603\n",
      "Epoch  13 Batch   12/16   train_loss = 4.533\n",
      "Epoch  14 Batch    6/16   train_loss = 4.378\n",
      "Epoch  15 Batch    0/16   train_loss = 4.185\n",
      "Epoch  15 Batch   10/16   train_loss = 4.206\n",
      "Epoch  16 Batch    4/16   train_loss = 4.117\n",
      "Epoch  16 Batch   14/16   train_loss = 4.036\n",
      "Epoch  17 Batch    8/16   train_loss = 3.949\n",
      "Epoch  18 Batch    2/16   train_loss = 3.949\n",
      "Epoch  18 Batch   12/16   train_loss = 3.817\n",
      "Epoch  19 Batch    6/16   train_loss = 3.696\n",
      "Epoch  20 Batch    0/16   train_loss = 3.526\n",
      "Epoch  20 Batch   10/16   train_loss = 3.469\n",
      "Epoch  21 Batch    4/16   train_loss = 3.400\n",
      "Epoch  21 Batch   14/16   train_loss = 3.275\n",
      "Epoch  22 Batch    8/16   train_loss = 3.234\n",
      "Epoch  23 Batch    2/16   train_loss = 3.188\n",
      "Epoch  23 Batch   12/16   train_loss = 3.087\n",
      "Epoch  24 Batch    6/16   train_loss = 3.022\n",
      "Epoch  25 Batch    0/16   train_loss = 2.879\n",
      "Epoch  25 Batch   10/16   train_loss = 2.807\n",
      "Epoch  26 Batch    4/16   train_loss = 2.701\n",
      "Epoch  26 Batch   14/16   train_loss = 2.566\n",
      "Epoch  27 Batch    8/16   train_loss = 2.534\n",
      "Epoch  28 Batch    2/16   train_loss = 2.458\n",
      "Epoch  28 Batch   12/16   train_loss = 2.276\n",
      "Epoch  29 Batch    6/16   train_loss = 2.250\n",
      "Epoch  30 Batch    0/16   train_loss = 2.166\n",
      "Epoch  30 Batch   10/16   train_loss = 2.071\n",
      "Epoch  31 Batch    4/16   train_loss = 1.985\n",
      "Epoch  31 Batch   14/16   train_loss = 1.875\n",
      "Epoch  32 Batch    8/16   train_loss = 1.811\n",
      "Epoch  33 Batch    2/16   train_loss = 1.705\n",
      "Epoch  33 Batch   12/16   train_loss = 1.555\n",
      "Epoch  34 Batch    6/16   train_loss = 1.553\n",
      "Epoch  35 Batch    0/16   train_loss = 1.458\n",
      "Epoch  35 Batch   10/16   train_loss = 1.392\n",
      "Epoch  36 Batch    4/16   train_loss = 1.296\n",
      "Epoch  36 Batch   14/16   train_loss = 1.160\n",
      "Epoch  37 Batch    8/16   train_loss = 1.179\n",
      "Epoch  38 Batch    2/16   train_loss = 1.074\n",
      "Epoch  38 Batch   12/16   train_loss = 0.964\n",
      "Epoch  39 Batch    6/16   train_loss = 0.928\n",
      "Epoch  40 Batch    0/16   train_loss = 0.847\n",
      "Epoch  40 Batch   10/16   train_loss = 0.763\n",
      "Epoch  41 Batch    4/16   train_loss = 0.729\n",
      "Epoch  41 Batch   14/16   train_loss = 0.656\n",
      "Epoch  42 Batch    8/16   train_loss = 0.665\n",
      "Epoch  43 Batch    2/16   train_loss = 0.610\n",
      "Epoch  43 Batch   12/16   train_loss = 0.528\n",
      "Epoch  44 Batch    6/16   train_loss = 0.509\n",
      "Epoch  45 Batch    0/16   train_loss = 0.469\n",
      "Epoch  45 Batch   10/16   train_loss = 0.442\n",
      "Epoch  46 Batch    4/16   train_loss = 0.392\n",
      "Epoch  46 Batch   14/16   train_loss = 0.353\n",
      "Epoch  47 Batch    8/16   train_loss = 0.354\n",
      "Epoch  48 Batch    2/16   train_loss = 0.327\n",
      "Epoch  48 Batch   12/16   train_loss = 0.296\n",
      "Epoch  49 Batch    6/16   train_loss = 0.275\n",
      "Epoch  50 Batch    0/16   train_loss = 0.262\n",
      "Epoch  50 Batch   10/16   train_loss = 0.242\n",
      "Epoch  51 Batch    4/16   train_loss = 0.224\n",
      "Epoch  51 Batch   14/16   train_loss = 0.203\n",
      "Epoch  52 Batch    8/16   train_loss = 0.208\n",
      "Epoch  53 Batch    2/16   train_loss = 0.198\n",
      "Epoch  53 Batch   12/16   train_loss = 0.175\n",
      "Epoch  54 Batch    6/16   train_loss = 0.172\n",
      "Epoch  55 Batch    0/16   train_loss = 0.166\n",
      "Epoch  55 Batch   10/16   train_loss = 0.155\n",
      "Epoch  56 Batch    4/16   train_loss = 0.142\n",
      "Epoch  56 Batch   14/16   train_loss = 0.130\n",
      "Epoch  57 Batch    8/16   train_loss = 0.136\n",
      "Epoch  58 Batch    2/16   train_loss = 0.137\n",
      "Epoch  58 Batch   12/16   train_loss = 0.130\n",
      "Epoch  59 Batch    6/16   train_loss = 0.131\n",
      "Epoch  60 Batch    0/16   train_loss = 0.129\n",
      "Epoch  60 Batch   10/16   train_loss = 0.124\n",
      "Epoch  61 Batch    4/16   train_loss = 0.115\n",
      "Epoch  61 Batch   14/16   train_loss = 0.107\n",
      "Epoch  62 Batch    8/16   train_loss = 0.112\n",
      "Epoch  63 Batch    2/16   train_loss = 0.114\n",
      "Epoch  63 Batch   12/16   train_loss = 0.109\n",
      "Model Trained and Saved\n"
     ]
    }
   ],
   "source": [
    "\"\"\"\n",
    "DON'T MODIFY ANYTHING IN THIS CELL\n",
    "\"\"\"\n",
    "batches = get_batches(int_text, batch_size, seq_length)\n",
    "\n",
    "with tf.Session(graph=train_graph) as sess:\n",
    "    sess.run(tf.global_variables_initializer())\n",
    "\n",
    "    for epoch_i in range(num_epochs):\n",
    "        state = sess.run(initial_state, {input_text: batches[0][0]})\n",
    "\n",
    "        for batch_i, (x, y) in enumerate(batches):\n",
    "            feed = {\n",
    "                input_text: x,\n",
    "                targets: y,\n",
    "                initial_state: state,\n",
    "                lr: learning_rate}\n",
    "            train_loss, state, _ = sess.run([cost, final_state, train_op], feed)\n",
    "\n",
    "            # Show every <show_every_n_batches> batches\n",
    "            if (epoch_i * len(batches) + batch_i) % show_every_n_batches == 0:\n",
    "                print('Epoch {:>3} Batch {:>4}/{}   train_loss = {:.3f}'.format(\n",
    "                    epoch_i,\n",
    "                    batch_i,\n",
    "                    len(batches),\n",
    "                    train_loss))\n",
    "\n",
    "    # Save Model\n",
    "    saver = tf.train.Saver()\n",
    "    saver.save(sess, save_dir)\n",
    "    print('Model Trained and Saved')"
   ]
  },
  {
   "cell_type": "markdown",
   "metadata": {
    "deletable": true,
    "editable": true
   },
   "source": [
    "## Save Parameters\n",
    "Save `seq_length` and `save_dir` for generating a new TV script."
   ]
  },
  {
   "cell_type": "code",
   "execution_count": 187,
   "metadata": {
    "collapsed": false,
    "deletable": true,
    "editable": true
   },
   "outputs": [],
   "source": [
    "\"\"\"\n",
    "DON'T MODIFY ANYTHING IN THIS CELL\n",
    "\"\"\"\n",
    "# Save parameters for checkpoint\n",
    "helper.save_params((seq_length, save_dir))"
   ]
  },
  {
   "cell_type": "markdown",
   "metadata": {
    "deletable": true,
    "editable": true
   },
   "source": [
    "# Checkpoint"
   ]
  },
  {
   "cell_type": "code",
   "execution_count": 188,
   "metadata": {
    "collapsed": false,
    "deletable": true,
    "editable": true
   },
   "outputs": [],
   "source": [
    "\"\"\"\n",
    "DON'T MODIFY ANYTHING IN THIS CELL\n",
    "\"\"\"\n",
    "import tensorflow as tf\n",
    "import numpy as np\n",
    "import helper\n",
    "import problem_unittests as tests\n",
    "\n",
    "_, vocab_to_int, int_to_vocab, token_dict = helper.load_preprocess()\n",
    "seq_length, load_dir = helper.load_params()"
   ]
  },
  {
   "cell_type": "markdown",
   "metadata": {
    "deletable": true,
    "editable": true
   },
   "source": [
    "## Implement Generate Functions\n",
    "### Get Tensors\n",
    "Get tensors from `loaded_graph` using the function [`get_tensor_by_name()`](https://www.tensorflow.org/api_docs/python/tf/Graph#get_tensor_by_name).  Get the tensors using the following names:\n",
    "- \"input:0\"\n",
    "- \"initial_state:0\"\n",
    "- \"final_state:0\"\n",
    "- \"probs:0\"\n",
    "\n",
    "Return the tensors in the following tuple `(InputTensor, InitialStateTensor, FinalStateTensor, ProbsTensor)` "
   ]
  },
  {
   "cell_type": "code",
   "execution_count": 189,
   "metadata": {
    "collapsed": false,
    "deletable": true,
    "editable": true
   },
   "outputs": [
    {
     "name": "stdout",
     "output_type": "stream",
     "text": [
      "Tests Passed\n"
     ]
    }
   ],
   "source": [
    "def get_tensors(loaded_graph):\n",
    "    \"\"\"\n",
    "    Get input, initial state, final state, and probabilities tensor from <loaded_graph>\n",
    "    :param loaded_graph: TensorFlow graph loaded from file\n",
    "    :return: Tuple (InputTensor, InitialStateTensor, FinalStateTensor, ProbsTensor)\n",
    "    \"\"\"\n",
    "    t_input = loaded_graph.get_tensor_by_name(\"input:0\")\n",
    "    t_initial_state = loaded_graph.get_tensor_by_name(\"initial_state:0\")\n",
    "    t_final_state = loaded_graph.get_tensor_by_name(\"final_state:0\")\n",
    "    t_probs = loaded_graph.get_tensor_by_name(\"probs:0\")\n",
    "    return (t_input, t_initial_state, t_final_state, t_probs)\n",
    "\n",
    "\n",
    "\"\"\"\n",
    "DON'T MODIFY ANYTHING IN THIS CELL THAT IS BELOW THIS LINE\n",
    "\"\"\"\n",
    "tests.test_get_tensors(get_tensors)"
   ]
  },
  {
   "cell_type": "markdown",
   "metadata": {
    "deletable": true,
    "editable": true
   },
   "source": [
    "### Choose Word\n",
    "Implement the `pick_word()` function to select the next word using `probabilities`."
   ]
  },
  {
   "cell_type": "code",
   "execution_count": 190,
   "metadata": {
    "collapsed": false,
    "deletable": true,
    "editable": true
   },
   "outputs": [
    {
     "name": "stdout",
     "output_type": "stream",
     "text": [
      "Tests Passed\n"
     ]
    }
   ],
   "source": [
    "def pick_word(probabilities, int_to_vocab):\n",
    "    \"\"\"\n",
    "    Pick the next word in the generated text\n",
    "    :param probabilities: Probabilites of the next word\n",
    "    :param int_to_vocab: Dictionary of word ids as the keys and words as the values\n",
    "    :return: String of the predicted word\n",
    "    \"\"\"\n",
    "    index = np.random.choice(np.arange(len(int_to_vocab)), p=probabilities)\n",
    "    return int_to_vocab[index]\n",
    "\n",
    "\"\"\"\n",
    "DON'T MODIFY ANYTHING IN THIS CELL THAT IS BELOW THIS LINE\n",
    "\"\"\"\n",
    "tests.test_pick_word(pick_word)"
   ]
  },
  {
   "cell_type": "markdown",
   "metadata": {
    "deletable": true,
    "editable": true
   },
   "source": [
    "## Generate TV Script\n",
    "This will generate the TV script for you.  Set `gen_length` to the length of TV script you want to generate."
   ]
  },
  {
   "cell_type": "code",
   "execution_count": 213,
   "metadata": {
    "collapsed": false,
    "deletable": true,
    "editable": true
   },
   "outputs": [
    {
     "name": "stdout",
     "output_type": "stream",
     "text": [
      "moe_szyslak: uh-oh... the beer was a super-nice guy.\n",
      "moe_szyslak:(defensive) hey, weeks!\n",
      "\n",
      "\n",
      "\n",
      "carl_carlson: so, uh, what are you gonna do? i'm gonna meet the night after the dank?\n",
      "homer_simpson: oh, what.\n",
      "homer_simpson: now what do?\n",
      "moe_szyslak:(explaining) i thought.\n",
      "\n",
      "\n",
      "homer_simpson:(moans) i quite it) i'll say i've out on the service.\n",
      "homer_simpson:(sighs) one his\" where's do\" money do\"?\n",
      "moe_szyslak: hey, homer. if i never kick that else.\n",
      "moe_szyslak: well, i make it.\n",
      "\n"
     ]
    }
   ],
   "source": [
    "gen_length = 120\n",
    "# homer_simpson, moe_szyslak, or Barney_Gumble\n",
    "prime_word = 'moe_szyslak'\n",
    "\n",
    "\"\"\"\n",
    "DON'T MODIFY ANYTHING IN THIS CELL THAT IS BELOW THIS LINE\n",
    "\"\"\"\n",
    "loaded_graph = tf.Graph()\n",
    "with tf.Session(graph=loaded_graph) as sess:\n",
    "    # Load saved model\n",
    "    loader = tf.train.import_meta_graph(load_dir + '.meta')\n",
    "    loader.restore(sess, load_dir)\n",
    "\n",
    "    # Get Tensors from loaded model\n",
    "    input_text, initial_state, final_state, probs = get_tensors(loaded_graph)\n",
    "\n",
    "    # Sentences generation setup\n",
    "    gen_sentences = [prime_word + ':']\n",
    "    prev_state = sess.run(initial_state, {input_text: np.array([[1]])})\n",
    "\n",
    "    # Generate sentences\n",
    "    for n in range(gen_length):\n",
    "        # Dynamic Input\n",
    "        dyn_input = [[vocab_to_int[word] for word in gen_sentences[-seq_length:]]]\n",
    "        dyn_seq_length = len(dyn_input[0])\n",
    "\n",
    "        # Get Prediction\n",
    "        probabilities, prev_state = sess.run(\n",
    "            [probs, final_state],\n",
    "            {input_text: dyn_input, initial_state: prev_state})\n",
    "        \n",
    "        pred_word = pick_word(probabilities[dyn_seq_length-1], int_to_vocab)\n",
    "\n",
    "        gen_sentences.append(pred_word)\n",
    "    \n",
    "    # Remove tokens\n",
    "    tv_script = ' '.join(gen_sentences)\n",
    "    for key, token in token_dict.items():\n",
    "        ending = ' ' if key in ['\\n', '(', '\"'] else ''\n",
    "        tv_script = tv_script.replace(' ' + token.lower(), key)\n",
    "    tv_script = tv_script.replace('\\n ', '\\n')\n",
    "    tv_script = tv_script.replace('( ', '(')\n",
    "        \n",
    "    print(tv_script)"
   ]
  },
  {
   "cell_type": "markdown",
   "metadata": {
    "deletable": true,
    "editable": true
   },
   "source": [
    "# The TV Script is Nonsensical\n",
    "It's ok if the TV script doesn't make any sense.  We trained on less than a megabyte of text.  In order to get good results, you'll have to use a smaller vocabulary or get more data.  Luckly there's more data!  As we mentioned in the begging of this project, this is a subset of [another dataset](https://www.kaggle.com/wcukierski/the-simpsons-by-the-data).  We didn't have you train on all the data, because that would take too long.  However, you are free to train your neural network on all the data.  After you complete the project, of course.\n",
    "# Submitting This Project\n",
    "When submitting this project, make sure to run all the cells before saving the notebook. Save the notebook file as \"dlnd_tv_script_generation.ipynb\" and save it as a HTML file under \"File\" -> \"Download as\". Include the \"helper.py\" and \"problem_unittests.py\" files in your submission."
   ]
  }
 ],
 "metadata": {
  "kernelspec": {
   "display_name": "Python 3",
   "language": "python",
   "name": "python3"
  },
  "language_info": {
   "codemirror_mode": {
    "name": "ipython",
    "version": 3
   },
   "file_extension": ".py",
   "mimetype": "text/x-python",
   "name": "python",
   "nbconvert_exporter": "python",
   "pygments_lexer": "ipython3",
   "version": "3.5.2"
  },
  "widgets": {
   "state": {},
   "version": "1.1.2"
  }
 },
 "nbformat": 4,
 "nbformat_minor": 0
}
